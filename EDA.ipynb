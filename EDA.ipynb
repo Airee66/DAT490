{
 "cells": [
  {
   "cell_type": "markdown",
   "metadata": {},
   "source": [
    "# Asthma and Pollution Exploratory Data Analysis\n",
    "Ainsley Atherton, Nikki La, Jordan Ledbetter, Palaniappan Vijay Sithambaram\n"
   ]
  },
  {
   "cell_type": "code",
   "execution_count": 29,
   "metadata": {},
   "outputs": [],
   "source": [
    "#Packages\n",
    "import pandas as pd"
   ]
  },
  {
   "cell_type": "markdown",
   "metadata": {},
   "source": [
    "## Datasets"
   ]
  },
  {
   "cell_type": "code",
   "execution_count": 30,
   "metadata": {},
   "outputs": [],
   "source": [
    "#Read in the data\n",
    "\n",
    "#Asthma\n",
    "folder_path = 'CDC_Asthma_Data'\n",
    "asthma_prev = pd.read_csv(folder_path + '/Adult_Asthma_prev2018-2021/data_180748.csv')\n",
    "asthma_hosp = pd.read_csv(folder_path + '/Asthma_Hospitalizations2000-2021/data_181454.csv')\n",
    "asthma_er = pd.read_csv(folder_path + '/ER_visits_Asthma2000-2021/data_181211.csv')\n",
    "\n",
    "#EPA Data (will probably want to merge these into one dataset)\n",
    "AQI2021 = pd.read_csv('annual_aqi_by_county_2021.csv')"
   ]
  },
  {
   "cell_type": "markdown",
   "metadata": {},
   "source": [
    "### Asthma Prevalence"
   ]
  },
  {
   "cell_type": "code",
   "execution_count": 31,
   "metadata": {},
   "outputs": [
    {
     "name": "stdout",
     "output_type": "stream",
     "text": [
      "   StateFIPS    State  CountyFIPS   County  Year  Value  Data Comment  \\\n",
      "0          1  Alabama        1001  Autauga  2018   10.2           NaN   \n",
      "1          1  Alabama        1001  Autauga  2019    9.7           NaN   \n",
      "2          1  Alabama        1001  Autauga  2020    9.8           NaN   \n",
      "3          1  Alabama        1001  Autauga  2021   10.2           NaN   \n",
      "4          1  Alabama        1003  Baldwin  2018    9.6           NaN   \n",
      "\n",
      "  95% Confidence Interval  Confidence Interval Low  Confidence Interval High  \\\n",
      "0            (9.6 - 10.8)                      9.6                      10.8   \n",
      "1            (9.2 - 10.3)                      9.2                      10.3   \n",
      "2            (9.4 - 10.4)                      9.4                      10.4   \n",
      "3            (8.9 - 11.6)                      8.9                      11.6   \n",
      "4            (9.1 - 10.2)                      9.1                      10.2   \n",
      "\n",
      "   Unnamed: 10  \n",
      "0          NaN  \n",
      "1          NaN  \n",
      "2          NaN  \n",
      "3          NaN  \n",
      "4          NaN  \n"
     ]
    }
   ],
   "source": [
    "asthma_prev.shape\n",
    "print(asthma_prev.head())"
   ]
  },
  {
   "cell_type": "markdown",
   "metadata": {},
   "source": [
    "### Hospitalizations due to Asthma"
   ]
  },
  {
   "cell_type": "code",
   "execution_count": 32,
   "metadata": {},
   "outputs": [
    {
     "name": "stdout",
     "output_type": "stream",
     "text": [
      "   StateFIPS    State  CountyFIPS  County  Year Value Data Comment  Unnamed: 7\n",
      "0          4  Arizona        4001  Apache  2005   7.2          NaN         NaN\n",
      "1          4  Arizona        4001  Apache  2006   4.8          NaN         NaN\n",
      "2          4  Arizona        4001  Apache  2007   3.6          NaN         NaN\n",
      "3          4  Arizona        4001  Apache  2008   5.1          NaN         NaN\n",
      "4          4  Arizona        4001  Apache  2009   5.6          NaN         NaN\n"
     ]
    }
   ],
   "source": [
    "print(asthma_hosp.head())"
   ]
  },
  {
   "cell_type": "markdown",
   "metadata": {},
   "source": [
    "### ER visits due to Asthma"
   ]
  },
  {
   "cell_type": "code",
   "execution_count": 33,
   "metadata": {},
   "outputs": [
    {
     "name": "stdout",
     "output_type": "stream",
     "text": [
      "   StateFIPS    State  CountyFIPS  County  Year Value Data Comment  Unnamed: 7\n",
      "0          4  Arizona        4001  Apache  2005  31.0          NaN         NaN\n",
      "1          4  Arizona        4001  Apache  2006  21.1          NaN         NaN\n",
      "2          4  Arizona        4001  Apache  2007  21.1          NaN         NaN\n",
      "3          4  Arizona        4001  Apache  2008  20.2          NaN         NaN\n",
      "4          4  Arizona        4001  Apache  2009  44.0          NaN         NaN\n"
     ]
    }
   ],
   "source": [
    "print(asthma_er.head())"
   ]
  },
  {
   "cell_type": "markdown",
   "metadata": {},
   "source": [
    "### Air Quality"
   ]
  },
  {
   "cell_type": "code",
   "execution_count": 34,
   "metadata": {},
   "outputs": [
    {
     "name": "stdout",
     "output_type": "stream",
     "text": [
      "     State   County  Year  Days with AQI  Good Days  Moderate Days  \\\n",
      "0  Alabama  Baldwin  2021            280        264             16   \n",
      "1  Alabama     Clay  2021            110        101              9   \n",
      "2  Alabama   DeKalb  2021            361        331             30   \n",
      "3  Alabama   Elmore  2021            241        238              3   \n",
      "4  Alabama   Etowah  2021            286        253             33   \n",
      "\n",
      "   Unhealthy for Sensitive Groups Days  Unhealthy Days  Very Unhealthy Days  \\\n",
      "0                                    0               0                    0   \n",
      "1                                    0               0                    0   \n",
      "2                                    0               0                    0   \n",
      "3                                    0               0                    0   \n",
      "4                                    0               0                    0   \n",
      "\n",
      "   Hazardous Days  Max AQI  90th Percentile AQI  Median AQI  Days CO  \\\n",
      "0               0       61                   48          35        0   \n",
      "1               0       67                   47          27        0   \n",
      "2               0       84                   49          36        0   \n",
      "3               0       87                   44          32        0   \n",
      "4               0       77                   51          36        0   \n",
      "\n",
      "   Days NO2  Days Ozone  Days PM2.5  Days PM10  \n",
      "0         0         221          59          0  \n",
      "1         0           0         110          0  \n",
      "2         0         320          41          0  \n",
      "3         0         241           0          0  \n",
      "4         0         213          73          0  \n"
     ]
    }
   ],
   "source": [
    "print(AQI2021.head())"
   ]
  }
 ],
 "metadata": {
  "kernelspec": {
   "display_name": "base",
   "language": "python",
   "name": "python3"
  },
  "language_info": {
   "codemirror_mode": {
    "name": "ipython",
    "version": 3
   },
   "file_extension": ".py",
   "mimetype": "text/x-python",
   "name": "python",
   "nbconvert_exporter": "python",
   "pygments_lexer": "ipython3",
   "version": "3.11.4"
  }
 },
 "nbformat": 4,
 "nbformat_minor": 2
}
