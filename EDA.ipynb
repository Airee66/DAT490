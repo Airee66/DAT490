{
 "cells": [
  {
   "cell_type": "markdown",
   "metadata": {},
   "source": [
    "# Asthma and Pollution Exploratory Data Analysis\n",
    "Ainsley Atherton, Nikki La, Jordan Ledbetter, Palaniappan Vijay Sithambaram\n"
   ]
  },
  {
   "cell_type": "code",
   "execution_count": 1,
   "metadata": {},
   "outputs": [],
   "source": [
    "#Packages\n",
    "import pandas as pd"
   ]
  },
  {
   "cell_type": "markdown",
   "metadata": {},
   "source": [
    "## Datasets"
   ]
  },
  {
   "cell_type": "code",
   "execution_count": 2,
   "metadata": {},
   "outputs": [],
   "source": [
    "#Read in the data\n",
    "\n",
    "#Asthma\n",
    "folder_path = 'CDC_Asthma_Data'\n",
    "asthma_prev = pd.read_csv(folder_path + '/Adult_Asthma_prev2018-2021/data_180748.csv')\n",
    "asthma_hosp = pd.read_csv(folder_path + '/Asthma_Hospitalizations2000-2021/data_181454.csv')\n",
    "asthma_er = pd.read_csv(folder_path + '/ER_visits_Asthma2000-2021/data_181211.csv')\n"
   ]
  },
  {
   "cell_type": "code",
   "execution_count": 4,
   "metadata": {},
   "outputs": [
    {
     "ename": "EmptyDataError",
     "evalue": "No columns to parse from file",
     "output_type": "error",
     "traceback": [
      "\u001b[1;31m---------------------------------------------------------------------------\u001b[0m",
      "\u001b[1;31mEmptyDataError\u001b[0m                            Traceback (most recent call last)",
      "Cell \u001b[1;32mIn[4], line 14\u001b[0m\n\u001b[0;32m     12\u001b[0m AQI2010 \u001b[38;5;241m=\u001b[39m pd\u001b[38;5;241m.\u001b[39mread_csv(AQI_folder_path \u001b[38;5;241m+\u001b[39m \u001b[38;5;124m'\u001b[39m\u001b[38;5;124m/annual_aqi_by_county_2010.csv\u001b[39m\u001b[38;5;124m'\u001b[39m)\n\u001b[0;32m     13\u001b[0m AQI2011 \u001b[38;5;241m=\u001b[39m pd\u001b[38;5;241m.\u001b[39mread_csv(AQI_folder_path \u001b[38;5;241m+\u001b[39m \u001b[38;5;124m'\u001b[39m\u001b[38;5;124m/annual_aqi_by_county_2011.csv\u001b[39m\u001b[38;5;124m'\u001b[39m)\n\u001b[1;32m---> 14\u001b[0m AQI2012 \u001b[38;5;241m=\u001b[39m \u001b[43mpd\u001b[49m\u001b[38;5;241;43m.\u001b[39;49m\u001b[43mread_csv\u001b[49m\u001b[43m(\u001b[49m\u001b[43mAQI_folder_path\u001b[49m\u001b[43m \u001b[49m\u001b[38;5;241;43m+\u001b[39;49m\u001b[43m \u001b[49m\u001b[38;5;124;43m'\u001b[39;49m\u001b[38;5;124;43m/annual_aqi_by_county_2012.csv\u001b[39;49m\u001b[38;5;124;43m'\u001b[39;49m\u001b[43m)\u001b[49m\n\u001b[0;32m     15\u001b[0m AQI2013 \u001b[38;5;241m=\u001b[39m pd\u001b[38;5;241m.\u001b[39mread_csv(AQI_folder_path \u001b[38;5;241m+\u001b[39m \u001b[38;5;124m'\u001b[39m\u001b[38;5;124m/annual_aqi_by_county_2013.csv\u001b[39m\u001b[38;5;124m'\u001b[39m)\n\u001b[0;32m     16\u001b[0m AQI2014 \u001b[38;5;241m=\u001b[39m pd\u001b[38;5;241m.\u001b[39mread_csv(AQI_folder_path \u001b[38;5;241m+\u001b[39m \u001b[38;5;124m'\u001b[39m\u001b[38;5;124m/annual_aqi_by_county_2014.csv\u001b[39m\u001b[38;5;124m'\u001b[39m)\n",
      "File \u001b[1;32m~\\AppData\\Local\\Packages\\PythonSoftwareFoundation.Python.3.11_qbz5n2kfra8p0\\LocalCache\\local-packages\\Python311\\site-packages\\pandas\\io\\parsers\\readers.py:1026\u001b[0m, in \u001b[0;36mread_csv\u001b[1;34m(filepath_or_buffer, sep, delimiter, header, names, index_col, usecols, dtype, engine, converters, true_values, false_values, skipinitialspace, skiprows, skipfooter, nrows, na_values, keep_default_na, na_filter, verbose, skip_blank_lines, parse_dates, infer_datetime_format, keep_date_col, date_parser, date_format, dayfirst, cache_dates, iterator, chunksize, compression, thousands, decimal, lineterminator, quotechar, quoting, doublequote, escapechar, comment, encoding, encoding_errors, dialect, on_bad_lines, delim_whitespace, low_memory, memory_map, float_precision, storage_options, dtype_backend)\u001b[0m\n\u001b[0;32m   1013\u001b[0m kwds_defaults \u001b[38;5;241m=\u001b[39m _refine_defaults_read(\n\u001b[0;32m   1014\u001b[0m     dialect,\n\u001b[0;32m   1015\u001b[0m     delimiter,\n\u001b[1;32m   (...)\u001b[0m\n\u001b[0;32m   1022\u001b[0m     dtype_backend\u001b[38;5;241m=\u001b[39mdtype_backend,\n\u001b[0;32m   1023\u001b[0m )\n\u001b[0;32m   1024\u001b[0m kwds\u001b[38;5;241m.\u001b[39mupdate(kwds_defaults)\n\u001b[1;32m-> 1026\u001b[0m \u001b[38;5;28;01mreturn\u001b[39;00m \u001b[43m_read\u001b[49m\u001b[43m(\u001b[49m\u001b[43mfilepath_or_buffer\u001b[49m\u001b[43m,\u001b[49m\u001b[43m \u001b[49m\u001b[43mkwds\u001b[49m\u001b[43m)\u001b[49m\n",
      "File \u001b[1;32m~\\AppData\\Local\\Packages\\PythonSoftwareFoundation.Python.3.11_qbz5n2kfra8p0\\LocalCache\\local-packages\\Python311\\site-packages\\pandas\\io\\parsers\\readers.py:620\u001b[0m, in \u001b[0;36m_read\u001b[1;34m(filepath_or_buffer, kwds)\u001b[0m\n\u001b[0;32m    617\u001b[0m _validate_names(kwds\u001b[38;5;241m.\u001b[39mget(\u001b[38;5;124m\"\u001b[39m\u001b[38;5;124mnames\u001b[39m\u001b[38;5;124m\"\u001b[39m, \u001b[38;5;28;01mNone\u001b[39;00m))\n\u001b[0;32m    619\u001b[0m \u001b[38;5;66;03m# Create the parser.\u001b[39;00m\n\u001b[1;32m--> 620\u001b[0m parser \u001b[38;5;241m=\u001b[39m \u001b[43mTextFileReader\u001b[49m\u001b[43m(\u001b[49m\u001b[43mfilepath_or_buffer\u001b[49m\u001b[43m,\u001b[49m\u001b[43m \u001b[49m\u001b[38;5;241;43m*\u001b[39;49m\u001b[38;5;241;43m*\u001b[39;49m\u001b[43mkwds\u001b[49m\u001b[43m)\u001b[49m\n\u001b[0;32m    622\u001b[0m \u001b[38;5;28;01mif\u001b[39;00m chunksize \u001b[38;5;129;01mor\u001b[39;00m iterator:\n\u001b[0;32m    623\u001b[0m     \u001b[38;5;28;01mreturn\u001b[39;00m parser\n",
      "File \u001b[1;32m~\\AppData\\Local\\Packages\\PythonSoftwareFoundation.Python.3.11_qbz5n2kfra8p0\\LocalCache\\local-packages\\Python311\\site-packages\\pandas\\io\\parsers\\readers.py:1620\u001b[0m, in \u001b[0;36mTextFileReader.__init__\u001b[1;34m(self, f, engine, **kwds)\u001b[0m\n\u001b[0;32m   1617\u001b[0m     \u001b[38;5;28mself\u001b[39m\u001b[38;5;241m.\u001b[39moptions[\u001b[38;5;124m\"\u001b[39m\u001b[38;5;124mhas_index_names\u001b[39m\u001b[38;5;124m\"\u001b[39m] \u001b[38;5;241m=\u001b[39m kwds[\u001b[38;5;124m\"\u001b[39m\u001b[38;5;124mhas_index_names\u001b[39m\u001b[38;5;124m\"\u001b[39m]\n\u001b[0;32m   1619\u001b[0m \u001b[38;5;28mself\u001b[39m\u001b[38;5;241m.\u001b[39mhandles: IOHandles \u001b[38;5;241m|\u001b[39m \u001b[38;5;28;01mNone\u001b[39;00m \u001b[38;5;241m=\u001b[39m \u001b[38;5;28;01mNone\u001b[39;00m\n\u001b[1;32m-> 1620\u001b[0m \u001b[38;5;28mself\u001b[39m\u001b[38;5;241m.\u001b[39m_engine \u001b[38;5;241m=\u001b[39m \u001b[38;5;28;43mself\u001b[39;49m\u001b[38;5;241;43m.\u001b[39;49m\u001b[43m_make_engine\u001b[49m\u001b[43m(\u001b[49m\u001b[43mf\u001b[49m\u001b[43m,\u001b[49m\u001b[43m \u001b[49m\u001b[38;5;28;43mself\u001b[39;49m\u001b[38;5;241;43m.\u001b[39;49m\u001b[43mengine\u001b[49m\u001b[43m)\u001b[49m\n",
      "File \u001b[1;32m~\\AppData\\Local\\Packages\\PythonSoftwareFoundation.Python.3.11_qbz5n2kfra8p0\\LocalCache\\local-packages\\Python311\\site-packages\\pandas\\io\\parsers\\readers.py:1898\u001b[0m, in \u001b[0;36mTextFileReader._make_engine\u001b[1;34m(self, f, engine)\u001b[0m\n\u001b[0;32m   1895\u001b[0m     \u001b[38;5;28;01mraise\u001b[39;00m \u001b[38;5;167;01mValueError\u001b[39;00m(msg)\n\u001b[0;32m   1897\u001b[0m \u001b[38;5;28;01mtry\u001b[39;00m:\n\u001b[1;32m-> 1898\u001b[0m     \u001b[38;5;28;01mreturn\u001b[39;00m \u001b[43mmapping\u001b[49m\u001b[43m[\u001b[49m\u001b[43mengine\u001b[49m\u001b[43m]\u001b[49m\u001b[43m(\u001b[49m\u001b[43mf\u001b[49m\u001b[43m,\u001b[49m\u001b[43m \u001b[49m\u001b[38;5;241;43m*\u001b[39;49m\u001b[38;5;241;43m*\u001b[39;49m\u001b[38;5;28;43mself\u001b[39;49m\u001b[38;5;241;43m.\u001b[39;49m\u001b[43moptions\u001b[49m\u001b[43m)\u001b[49m\n\u001b[0;32m   1899\u001b[0m \u001b[38;5;28;01mexcept\u001b[39;00m \u001b[38;5;167;01mException\u001b[39;00m:\n\u001b[0;32m   1900\u001b[0m     \u001b[38;5;28;01mif\u001b[39;00m \u001b[38;5;28mself\u001b[39m\u001b[38;5;241m.\u001b[39mhandles \u001b[38;5;129;01mis\u001b[39;00m \u001b[38;5;129;01mnot\u001b[39;00m \u001b[38;5;28;01mNone\u001b[39;00m:\n",
      "File \u001b[1;32m~\\AppData\\Local\\Packages\\PythonSoftwareFoundation.Python.3.11_qbz5n2kfra8p0\\LocalCache\\local-packages\\Python311\\site-packages\\pandas\\io\\parsers\\c_parser_wrapper.py:93\u001b[0m, in \u001b[0;36mCParserWrapper.__init__\u001b[1;34m(self, src, **kwds)\u001b[0m\n\u001b[0;32m     90\u001b[0m \u001b[38;5;28;01mif\u001b[39;00m kwds[\u001b[38;5;124m\"\u001b[39m\u001b[38;5;124mdtype_backend\u001b[39m\u001b[38;5;124m\"\u001b[39m] \u001b[38;5;241m==\u001b[39m \u001b[38;5;124m\"\u001b[39m\u001b[38;5;124mpyarrow\u001b[39m\u001b[38;5;124m\"\u001b[39m:\n\u001b[0;32m     91\u001b[0m     \u001b[38;5;66;03m# Fail here loudly instead of in cython after reading\u001b[39;00m\n\u001b[0;32m     92\u001b[0m     import_optional_dependency(\u001b[38;5;124m\"\u001b[39m\u001b[38;5;124mpyarrow\u001b[39m\u001b[38;5;124m\"\u001b[39m)\n\u001b[1;32m---> 93\u001b[0m \u001b[38;5;28mself\u001b[39m\u001b[38;5;241m.\u001b[39m_reader \u001b[38;5;241m=\u001b[39m \u001b[43mparsers\u001b[49m\u001b[38;5;241;43m.\u001b[39;49m\u001b[43mTextReader\u001b[49m\u001b[43m(\u001b[49m\u001b[43msrc\u001b[49m\u001b[43m,\u001b[49m\u001b[43m \u001b[49m\u001b[38;5;241;43m*\u001b[39;49m\u001b[38;5;241;43m*\u001b[39;49m\u001b[43mkwds\u001b[49m\u001b[43m)\u001b[49m\n\u001b[0;32m     95\u001b[0m \u001b[38;5;28mself\u001b[39m\u001b[38;5;241m.\u001b[39munnamed_cols \u001b[38;5;241m=\u001b[39m \u001b[38;5;28mself\u001b[39m\u001b[38;5;241m.\u001b[39m_reader\u001b[38;5;241m.\u001b[39munnamed_cols\n\u001b[0;32m     97\u001b[0m \u001b[38;5;66;03m# error: Cannot determine type of 'names'\u001b[39;00m\n",
      "File \u001b[1;32mparsers.pyx:581\u001b[0m, in \u001b[0;36mpandas._libs.parsers.TextReader.__cinit__\u001b[1;34m()\u001b[0m\n",
      "\u001b[1;31mEmptyDataError\u001b[0m: No columns to parse from file"
     ]
    }
   ],
   "source": [
    "#EPA Data (will probably want to merge these into one dataset)\n",
    "AQI_folder_path = 'CDC_Asthma_Data/AQI_data'\n",
    "AQI2001 = pd.read_csv(AQI_folder_path + '/annual_aqi_by_county_2001.csv')\n",
    "AQI2002 = pd.read_csv(AQI_folder_path + '/annual_aqi_by_county_2002.csv')\n",
    "AQI2003 = pd.read_csv(AQI_folder_path + '/annual_aqi_by_county_2003.csv')\n",
    "AQI2004 = pd.read_csv(AQI_folder_path + '/annual_aqi_by_county_2004.csv')\n",
    "AQI2005 = pd.read_csv(AQI_folder_path + '/annual_aqi_by_county_2005.csv')\n",
    "AQI2006 = pd.read_csv(AQI_folder_path + '/annual_aqi_by_county_2006.csv')\n",
    "AQI2007 = pd.read_csv(AQI_folder_path + '/annual_aqi_by_county_2007.csv')\n",
    "AQI2008 = pd.read_csv(AQI_folder_path + '/annual_aqi_by_county_2008.csv')\n",
    "AQI2009 = pd.read_csv(AQI_folder_path + '/annual_aqi_by_county_2009.csv')\n",
    "AQI2010 = pd.read_csv(AQI_folder_path + '/annual_aqi_by_county_2010.csv')\n",
    "AQI2011 = pd.read_csv(AQI_folder_path + '/annual_aqi_by_county_2011.csv')\n",
    "AQI2012 = pd.read_csv(AQI_folder_path + '/annual_aqi_by_county_2012.csv')\n",
    "AQI2013 = pd.read_csv(AQI_folder_path + '/annual_aqi_by_county_2013.csv')\n",
    "AQI2014 = pd.read_csv(AQI_folder_path + '/annual_aqi_by_county_2014.csv')\n",
    "AQI2015 = pd.read_csv(AQI_folder_path + '/annual_aqi_by_county_2015.csv')\n",
    "AQI2016 = pd.read_csv(AQI_folder_path + '/annual_aqi_by_county_2016.csv')\n",
    "AQI2017 = pd.read_csv(AQI_folder_path + '/annual_aqi_by_county_2017.csv')\n",
    "AQI2018 = pd.read_csv(AQI_folder_path + '/annual_aqi_by_county_2018.csv')\n",
    "AQI2019 = pd.read_csv(AQI_folder_path + '/annual_aqi_by_county_2019.csv')\n",
    "AQI2020 = pd.read_csv(AQI_folder_path + '/annual_aqi_by_county_2020.csv')\n",
    "AQI2021 = pd.read_csv(AQI_folder_path + '/annual_aqi_by_county_2021.csv')"
   ]
  },
  {
   "cell_type": "markdown",
   "metadata": {},
   "source": [
    "### Asthma Prevalence"
   ]
  },
  {
   "cell_type": "code",
   "execution_count": 10,
   "metadata": {},
   "outputs": [
    {
     "name": "stdout",
     "output_type": "stream",
     "text": [
      "   StateFIPS    State  CountyFIPS   County  Year  Value  Data Comment  \\\n",
      "0          1  Alabama        1001  Autauga  2018   10.2           NaN   \n",
      "1          1  Alabama        1001  Autauga  2019    9.7           NaN   \n",
      "2          1  Alabama        1001  Autauga  2020    9.8           NaN   \n",
      "3          1  Alabama        1001  Autauga  2021   10.2           NaN   \n",
      "4          1  Alabama        1003  Baldwin  2018    9.6           NaN   \n",
      "\n",
      "  95% Confidence Interval  Confidence Interval Low  Confidence Interval High  \\\n",
      "0            (9.6 - 10.8)                      9.6                      10.8   \n",
      "1            (9.2 - 10.3)                      9.2                      10.3   \n",
      "2            (9.4 - 10.4)                      9.4                      10.4   \n",
      "3            (8.9 - 11.6)                      8.9                      11.6   \n",
      "4            (9.1 - 10.2)                      9.1                      10.2   \n",
      "\n",
      "   Unnamed: 10  \n",
      "0          NaN  \n",
      "1          NaN  \n",
      "2          NaN  \n",
      "3          NaN  \n",
      "4          NaN  \n"
     ]
    }
   ],
   "source": [
    "asthma_prev.shape\n",
    "print(asthma_prev.head())"
   ]
  },
  {
   "cell_type": "markdown",
   "metadata": {},
   "source": [
    "### Hospitalizations due to Asthma"
   ]
  },
  {
   "cell_type": "code",
   "execution_count": 11,
   "metadata": {},
   "outputs": [
    {
     "name": "stdout",
     "output_type": "stream",
     "text": [
      "   StateFIPS    State  CountyFIPS  County  Year Value Data Comment  Unnamed: 7\n",
      "0          4  Arizona        4001  Apache  2005   7.2          NaN         NaN\n",
      "1          4  Arizona        4001  Apache  2006   4.8          NaN         NaN\n",
      "2          4  Arizona        4001  Apache  2007   3.6          NaN         NaN\n",
      "3          4  Arizona        4001  Apache  2008   5.1          NaN         NaN\n",
      "4          4  Arizona        4001  Apache  2009   5.6          NaN         NaN\n"
     ]
    },
    {
     "data": {
      "text/html": [
       "<div>\n",
       "<style scoped>\n",
       "    .dataframe tbody tr th:only-of-type {\n",
       "        vertical-align: middle;\n",
       "    }\n",
       "\n",
       "    .dataframe tbody tr th {\n",
       "        vertical-align: top;\n",
       "    }\n",
       "\n",
       "    .dataframe thead th {\n",
       "        text-align: right;\n",
       "    }\n",
       "</style>\n",
       "<table border=\"1\" class=\"dataframe\">\n",
       "  <thead>\n",
       "    <tr style=\"text-align: right;\">\n",
       "      <th></th>\n",
       "      <th>StateFIPS</th>\n",
       "      <th>State</th>\n",
       "      <th>CountyFIPS</th>\n",
       "      <th>County</th>\n",
       "      <th>Year</th>\n",
       "      <th>Value</th>\n",
       "      <th>Data Comment</th>\n",
       "      <th>Unnamed: 7</th>\n",
       "    </tr>\n",
       "  </thead>\n",
       "  <tbody>\n",
       "    <tr>\n",
       "      <th>20101</th>\n",
       "      <td>35</td>\n",
       "      <td>New Mexico</td>\n",
       "      <td>35013</td>\n",
       "      <td>Dona Ana</td>\n",
       "      <td>2000</td>\n",
       "      <td>6.1</td>\n",
       "      <td>NaN</td>\n",
       "      <td>NaN</td>\n",
       "    </tr>\n",
       "    <tr>\n",
       "      <th>22114</th>\n",
       "      <td>37</td>\n",
       "      <td>North Carolina</td>\n",
       "      <td>37015</td>\n",
       "      <td>Bertie</td>\n",
       "      <td>2000</td>\n",
       "      <td>22.9</td>\n",
       "      <td>NaN</td>\n",
       "      <td>NaN</td>\n",
       "    </tr>\n",
       "    <tr>\n",
       "      <th>22103</th>\n",
       "      <td>37</td>\n",
       "      <td>North Carolina</td>\n",
       "      <td>37013</td>\n",
       "      <td>Beaufort</td>\n",
       "      <td>2000</td>\n",
       "      <td>22.7</td>\n",
       "      <td>NaN</td>\n",
       "      <td>NaN</td>\n",
       "    </tr>\n",
       "    <tr>\n",
       "      <th>3537</th>\n",
       "      <td>12</td>\n",
       "      <td>Florida</td>\n",
       "      <td>12081</td>\n",
       "      <td>Manatee</td>\n",
       "      <td>2000</td>\n",
       "      <td>11.7</td>\n",
       "      <td>NaN</td>\n",
       "      <td>NaN</td>\n",
       "    </tr>\n",
       "    <tr>\n",
       "      <th>22092</th>\n",
       "      <td>37</td>\n",
       "      <td>North Carolina</td>\n",
       "      <td>37011</td>\n",
       "      <td>Avery</td>\n",
       "      <td>2000</td>\n",
       "      <td>12.1</td>\n",
       "      <td>NaN</td>\n",
       "      <td>NaN</td>\n",
       "    </tr>\n",
       "    <tr>\n",
       "      <th>...</th>\n",
       "      <td>...</td>\n",
       "      <td>...</td>\n",
       "      <td>...</td>\n",
       "      <td>...</td>\n",
       "      <td>...</td>\n",
       "      <td>...</td>\n",
       "      <td>...</td>\n",
       "      <td>...</td>\n",
       "    </tr>\n",
       "    <tr>\n",
       "      <th>20232</th>\n",
       "      <td>35</td>\n",
       "      <td>New Mexico</td>\n",
       "      <td>35023</td>\n",
       "      <td>Hidalgo</td>\n",
       "      <td>2021</td>\n",
       "      <td>0.0</td>\n",
       "      <td>NaN</td>\n",
       "      <td>NaN</td>\n",
       "    </tr>\n",
       "    <tr>\n",
       "      <th>20254</th>\n",
       "      <td>35</td>\n",
       "      <td>New Mexico</td>\n",
       "      <td>35025</td>\n",
       "      <td>Lea</td>\n",
       "      <td>2021</td>\n",
       "      <td>3.2</td>\n",
       "      <td>NaN</td>\n",
       "      <td>NaN</td>\n",
       "    </tr>\n",
       "    <tr>\n",
       "      <th>20276</th>\n",
       "      <td>35</td>\n",
       "      <td>New Mexico</td>\n",
       "      <td>35027</td>\n",
       "      <td>Lincoln</td>\n",
       "      <td>2021</td>\n",
       "      <td>Suppressed</td>\n",
       "      <td>Unstable</td>\n",
       "      <td>NaN</td>\n",
       "    </tr>\n",
       "    <tr>\n",
       "      <th>20166</th>\n",
       "      <td>35</td>\n",
       "      <td>New Mexico</td>\n",
       "      <td>35017</td>\n",
       "      <td>Grant</td>\n",
       "      <td>2021</td>\n",
       "      <td>Suppressed</td>\n",
       "      <td>Unstable</td>\n",
       "      <td>NaN</td>\n",
       "    </tr>\n",
       "    <tr>\n",
       "      <th>33477</th>\n",
       "      <td>55</td>\n",
       "      <td>Wisconsin</td>\n",
       "      <td>55141</td>\n",
       "      <td>Wood</td>\n",
       "      <td>2021</td>\n",
       "      <td>1.2</td>\n",
       "      <td>Unstable</td>\n",
       "      <td>NaN</td>\n",
       "    </tr>\n",
       "  </tbody>\n",
       "</table>\n",
       "<p>33478 rows × 8 columns</p>\n",
       "</div>"
      ],
      "text/plain": [
       "       StateFIPS           State  CountyFIPS    County  Year       Value  \\\n",
       "20101         35      New Mexico       35013  Dona Ana  2000         6.1   \n",
       "22114         37  North Carolina       37015    Bertie  2000        22.9   \n",
       "22103         37  North Carolina       37013  Beaufort  2000        22.7   \n",
       "3537          12         Florida       12081   Manatee  2000        11.7   \n",
       "22092         37  North Carolina       37011     Avery  2000        12.1   \n",
       "...          ...             ...         ...       ...   ...         ...   \n",
       "20232         35      New Mexico       35023   Hidalgo  2021         0.0   \n",
       "20254         35      New Mexico       35025       Lea  2021         3.2   \n",
       "20276         35      New Mexico       35027   Lincoln  2021  Suppressed   \n",
       "20166         35      New Mexico       35017     Grant  2021  Suppressed   \n",
       "33477         55       Wisconsin       55141      Wood  2021         1.2   \n",
       "\n",
       "      Data Comment  Unnamed: 7  \n",
       "20101          NaN         NaN  \n",
       "22114          NaN         NaN  \n",
       "22103          NaN         NaN  \n",
       "3537           NaN         NaN  \n",
       "22092          NaN         NaN  \n",
       "...            ...         ...  \n",
       "20232          NaN         NaN  \n",
       "20254          NaN         NaN  \n",
       "20276     Unstable         NaN  \n",
       "20166     Unstable         NaN  \n",
       "33477     Unstable         NaN  \n",
       "\n",
       "[33478 rows x 8 columns]"
      ]
     },
     "execution_count": 11,
     "metadata": {},
     "output_type": "execute_result"
    }
   ],
   "source": [
    "print(asthma_hosp.head())\n",
    "df = asthma_hosp.sort_values(by = 'Year', ascending = True)\n",
    "df"
   ]
  },
  {
   "cell_type": "markdown",
   "metadata": {},
   "source": [
    "### ER visits due to Asthma"
   ]
  },
  {
   "cell_type": "code",
   "execution_count": 33,
   "metadata": {},
   "outputs": [
    {
     "name": "stdout",
     "output_type": "stream",
     "text": [
      "   StateFIPS    State  CountyFIPS  County  Year Value Data Comment  Unnamed: 7\n",
      "0          4  Arizona        4001  Apache  2005  31.0          NaN         NaN\n",
      "1          4  Arizona        4001  Apache  2006  21.1          NaN         NaN\n",
      "2          4  Arizona        4001  Apache  2007  21.1          NaN         NaN\n",
      "3          4  Arizona        4001  Apache  2008  20.2          NaN         NaN\n",
      "4          4  Arizona        4001  Apache  2009  44.0          NaN         NaN\n"
     ]
    }
   ],
   "source": [
    "print(asthma_er.head())"
   ]
  },
  {
   "cell_type": "markdown",
   "metadata": {},
   "source": [
    "### Air Quality"
   ]
  },
  {
   "cell_type": "code",
   "execution_count": 5,
   "metadata": {},
   "outputs": [
    {
     "name": "stdout",
     "output_type": "stream",
     "text": [
      "     State   County  Year  Days with AQI  Good Days  Moderate Days  \\\n",
      "0  Alabama  Baldwin  2021            280        264             16   \n",
      "1  Alabama     Clay  2021            110        101              9   \n",
      "2  Alabama   DeKalb  2021            361        331             30   \n",
      "3  Alabama   Elmore  2021            241        238              3   \n",
      "4  Alabama   Etowah  2021            286        253             33   \n",
      "\n",
      "   Unhealthy for Sensitive Groups Days  Unhealthy Days  Very Unhealthy Days  \\\n",
      "0                                    0               0                    0   \n",
      "1                                    0               0                    0   \n",
      "2                                    0               0                    0   \n",
      "3                                    0               0                    0   \n",
      "4                                    0               0                    0   \n",
      "\n",
      "   Hazardous Days  Max AQI  90th Percentile AQI  Median AQI  Days CO  \\\n",
      "0               0       61                   48          35        0   \n",
      "1               0       67                   47          27        0   \n",
      "2               0       84                   49          36        0   \n",
      "3               0       87                   44          32        0   \n",
      "4               0       77                   51          36        0   \n",
      "\n",
      "   Days NO2  Days Ozone  Days PM2.5  Days PM10  \n",
      "0         0         221          59          0  \n",
      "1         0           0         110          0  \n",
      "2         0         320          41          0  \n",
      "3         0         241           0          0  \n",
      "4         0         213          73          0  \n"
     ]
    }
   ],
   "source": [
    "print(AQI2021.head())"
   ]
  },
  {
   "cell_type": "code",
   "execution_count": null,
   "metadata": {},
   "outputs": [],
   "source": []
  }
 ],
 "metadata": {
  "kernelspec": {
   "display_name": "DAT490Project",
   "language": "python",
   "name": "dat490project"
  },
  "language_info": {
   "codemirror_mode": {
    "name": "ipython",
    "version": 3
   },
   "file_extension": ".py",
   "mimetype": "text/x-python",
   "name": "python",
   "nbconvert_exporter": "python",
   "pygments_lexer": "ipython3",
   "version": "3.11.8"
  }
 },
 "nbformat": 4,
 "nbformat_minor": 2
}
