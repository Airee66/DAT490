{
 "cells": [
  {
   "cell_type": "markdown",
   "metadata": {},
   "source": [
    "# Test"
   ]
  },
  {
   "cell_type": "code",
   "execution_count": 5,
   "metadata": {},
   "outputs": [],
   "source": [
    "import pandas as pd\n",
    "import requests\n",
    "import json\n",
    "\n",
    "from pandas import json_normalize\n",
    "from io import StringIO"
   ]
  },
  {
   "cell_type": "code",
   "execution_count": 11,
   "metadata": {},
   "outputs": [
    {
     "name": "stdout",
     "output_type": "stream",
     "text": [
      "200\n"
     ]
    }
   ],
   "source": [
    "#pd.read_csv(\"annual_aqi_by_county_2021.csv\")\n",
    "response = requests.get(\"https://data.cdc.gov/resource/eav7-hnsx.json?$limit=200000\") #change limit to however big the dataset is\n",
    "print(response.status_code) #should be 200, anything else is prob an error"
   ]
  },
  {
   "cell_type": "code",
   "execution_count": 12,
   "metadata": {},
   "outputs": [
    {
     "name": "stdout",
     "output_type": "stream",
     "text": [
      "        year stateabbr   statedesc      locationname datasource  \\\n",
      "0       2020        AK      Alaska             Kiana      BRFSS   \n",
      "1       2021        AK      Alaska         Koliganek      BRFSS   \n",
      "2       2021        AK      Alaska        Kongiganak      BRFSS   \n",
      "3       2021        AK      Alaska             Lakes      BRFSS   \n",
      "4       2021        AK      Alaska  Mountain Village      BRFSS   \n",
      "...      ...       ...         ...               ...        ...   \n",
      "199995  2021        CA  California    North Richmond      BRFSS   \n",
      "199996  2021        CA  California      Moss Landing      BRFSS   \n",
      "199997  2021        CA  California           Ontario      BRFSS   \n",
      "199998  2021        CA  California           Montara      BRFSS   \n",
      "199999  2021        CA  California        Litchfield      BRFSS   \n",
      "\n",
      "               category                                            measure  \\\n",
      "0       Health Outcomes        All teeth lost among adults aged >=65 years   \n",
      "1       Health Outcomes             Arthritis among adults aged >=18 years   \n",
      "2       Health Outcomes             Arthritis among adults aged >=18 years   \n",
      "3       Health Outcomes               Obesity among adults aged >=18 years   \n",
      "4       Health Outcomes               Obesity among adults aged >=18 years   \n",
      "...                 ...                                                ...   \n",
      "199995  Health Outcomes               Obesity among adults aged >=18 years   \n",
      "199996  Health Outcomes  Coronary heart disease among adults aged >=18 ...   \n",
      "199997  Health Outcomes  Chronic kidney disease among adults aged >=18 ...   \n",
      "199998    Health Status  Physical health not good for >=14 days among a...   \n",
      "199999  Health Outcomes  Chronic kidney disease among adults aged >=18 ...   \n",
      "\n",
      "       data_value_unit          data_value_type  data_value  ...  \\\n",
      "0                    %         Crude prevalence        38.5  ...   \n",
      "1                    %         Crude prevalence        22.0  ...   \n",
      "2                    %         Crude prevalence        23.5  ...   \n",
      "3                    %         Crude prevalence        36.7  ...   \n",
      "4                    %         Crude prevalence        47.3  ...   \n",
      "...                ...                      ...         ...  ...   \n",
      "199995               %  Age-adjusted prevalence        33.0  ...   \n",
      "199996               %  Age-adjusted prevalence         5.5  ...   \n",
      "199997               %         Crude prevalence         2.7  ...   \n",
      "199998               %         Crude prevalence         9.0  ...   \n",
      "199999               %         Crude prevalence         3.5  ...   \n",
      "\n",
      "                                              geolocation  locationid  \\\n",
      "0       {'type': 'Point', 'coordinates': [-160.4343638...      239300   \n",
      "1       {'type': 'Point', 'coordinates': [-157.2259091...      241500   \n",
      "2       {'type': 'Point', 'coordinates': [-162.8830767...      241610   \n",
      "3       {'type': 'Point', 'coordinates': [-149.3066764...      242832   \n",
      "4       {'type': 'Point', 'coordinates': [-163.7209368...      251180   \n",
      "...                                                   ...         ...   \n",
      "199995  {'type': 'Point', 'coordinates': [-122.3704197...      652162   \n",
      "199996  {'type': 'Point', 'coordinates': [-121.7872045...      649488   \n",
      "199997  {'type': 'Point', 'coordinates': [-117.6064108...      653896   \n",
      "199998  {'type': 'Point', 'coordinates': [-122.4923615...      648760   \n",
      "199999  {'type': 'Point', 'coordinates': [-120.380986,...      641782   \n",
      "\n",
      "        categoryid  measureid  datavaluetypeid     short_question_text  \\\n",
      "0          HLTHOUT  TEETHLOST           CrdPrv          All Teeth Lost   \n",
      "1          HLTHOUT  ARTHRITIS           CrdPrv               Arthritis   \n",
      "2          HLTHOUT  ARTHRITIS           CrdPrv               Arthritis   \n",
      "3          HLTHOUT    OBESITY           CrdPrv                 Obesity   \n",
      "4          HLTHOUT    OBESITY           CrdPrv                 Obesity   \n",
      "...            ...        ...              ...                     ...   \n",
      "199995     HLTHOUT    OBESITY        AgeAdjPrv                 Obesity   \n",
      "199996     HLTHOUT        CHD        AgeAdjPrv  Coronary Heart Disease   \n",
      "199997     HLTHOUT     KIDNEY           CrdPrv  Chronic Kidney Disease   \n",
      "199998    HLTHSTAT      PHLTH           CrdPrv         Physical Health   \n",
      "199999     HLTHOUT     KIDNEY           CrdPrv  Chronic Kidney Disease   \n",
      "\n",
      "       :@computed_region_bxsw_vy29 :@computed_region_he4y_prf8  \\\n",
      "0                             51.0                       116.0   \n",
      "1                             51.0                      1672.0   \n",
      "2                             51.0                       108.0   \n",
      "3                             51.0                      1707.0   \n",
      "4                             51.0                         2.0   \n",
      "...                            ...                         ...   \n",
      "199995                         8.0                      1185.0   \n",
      "199996                         8.0                      1171.0   \n",
      "199997                         8.0                        78.0   \n",
      "199998                         8.0                      1333.0   \n",
      "199999                         8.0                      1194.0   \n",
      "\n",
      "       data_value_footnote_symbol  data_value_footnote  \n",
      "0                             NaN                  NaN  \n",
      "1                             NaN                  NaN  \n",
      "2                             NaN                  NaN  \n",
      "3                             NaN                  NaN  \n",
      "4                             NaN                  NaN  \n",
      "...                           ...                  ...  \n",
      "199995                        NaN                  NaN  \n",
      "199996                        NaN                  NaN  \n",
      "199997                        NaN                  NaN  \n",
      "199998                        NaN                  NaN  \n",
      "199999                        NaN                  NaN  \n",
      "\n",
      "[200000 rows x 23 columns]\n"
     ]
    }
   ],
   "source": [
    "df = pd.read_json(StringIO(response.text))\n",
    "print(df)\n"
   ]
  },
  {
   "cell_type": "code",
   "execution_count": 13,
   "metadata": {},
   "outputs": [
    {
     "data": {
      "text/plain": [
       "(200000, 23)"
      ]
     },
     "execution_count": 13,
     "metadata": {},
     "output_type": "execute_result"
    }
   ],
   "source": [
    "df.shape"
   ]
  }
 ],
 "metadata": {
  "kernelspec": {
   "display_name": "base",
   "language": "python",
   "name": "python3"
  },
  "language_info": {
   "codemirror_mode": {
    "name": "ipython",
    "version": 3
   },
   "file_extension": ".py",
   "mimetype": "text/x-python",
   "name": "python",
   "nbconvert_exporter": "python",
   "pygments_lexer": "ipython3",
   "version": "3.11.4"
  }
 },
 "nbformat": 4,
 "nbformat_minor": 2
}
